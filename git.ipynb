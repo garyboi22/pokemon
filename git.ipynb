import time
import numpy as np
import sys

# Function for delayed printing text (like typing)
def delay_print(s):
    for c in s:
        sys.stdout.write(c)
        sys.stdout.flush()
        time.sleep(0.05)

# Creating a class for Pokémon
class Pokemon:
    def __init__(self, name, types, moves, EVs, health=20):
        self.name = name
        self.type = types
        self.moves = moves
        self.attack = EVs['ATTACK']
        self.defence = EVs['DEFENCE']
        self.health = health
        self.max_health = health  

    def print_health(self):
        """Print the current health bar."""
        health_percentage = (self.health / self.max_health) * 20
        health_bar = '=' * int(health_percentage) + '-' * (20 - int(health_percentage))
        print(f"Health: [{health_bar}] {self.health}/{self.max_health}")

    def attack_pokemon(self, other):
        """Simulate an attack on another Pokémon."""
        # Calculate damage based on attack and defense
        damage_to_other = max(1, self.attack - other.defence)
        other.health -= damage_to_other
        return damage_to_other

    def fight(self, Pokemon2):
        print("--------- Pokémon Battle ----------")
        
        # Battle Loop until one Pokémon's health drops to 0 or below
        while self.health > 0 and Pokemon2.health > 0:
            # Display the stats before each round
            print(f"\n{self.name} vs {Pokemon2.name}")
            print(f"{self.name} Health: {self.health}/{self.max_health}")
            print(f"{Pokemon2.name} Health: {Pokemon2.health}/{Pokemon2.max_health}")
            
            # Perform the attacks
            damage_to_pokemon2 = self.attack_pokemon(Pokemon2)
            print(f"{self.name} attacks {Pokemon2.name} for {damage_to_pokemon2} damage!")
            
            if Pokemon2.health <= 0:
                print(f"{Pokemon2.name} has fainted!")
                break  # Exit the loop if Pokémon2's health is 0 or below

            damage_to_self = Pokemon2.attack_pokemon(self)
            print(f"{Pokemon2.name} attacks {self.name} for {damage_to_self} damage!")
            
            if self.health <= 0:
                print(f"{self.name} has fainted!")
                break  # Exit the loop if self's health is 0 or below

            time.sleep(1)

        # Check who won
        if self.health > 0:
            print(f"{self.name} wins the battle!")
        elif Pokemon2.health > 0:
            print(f"{Pokemon2.name} wins the battle!")
        else:
            print("It's a tie!")


pikachu = Pokemon(
    name="Pikachu",
    types="Electric",
    moves=["Thunderbolt", "Quick Attack", "Iron Tail", "Electro Ball"],
    EVs={"ATTACK": 55, "DEFENCE": 40},
    health=20
)

charmander = Pokemon(
    name="Charmander",
    types="Fire",
    moves=["Ember", "Scratch", "Flamethrower", "Dragon Breath"],
    EVs={"ATTACK": 52, "DEFENCE": 43},
    health=20
)

charizard = Pokemon(
    name="Charizard",
    types="Fire",
    moves=["Flamethrower", "Dragon Claw", "Fly", "Fire Spin"],
    EVs={"ATTACK": 84, "DEFENCE": 78},
    health=20
)

bulbasaur = Pokemon(
    name="Bulbasaur",
    types="Grass",
    moves=["Vine Whip", "Tackle", "Razor Leaf", "Solar Beam"],
    EVs={"ATTACK": 49, "DEFENCE": 49},
    health=20
)

squirtle = Pokemon(
    name="Squirtle",
    types="Water",
    moves=["Water Gun", "Tackle", "Bubble", "Hydro Pump"],
    EVs={"ATTACK": 48, "DEFENCE": 65},
    health=20
)

# List of all available Pokémon
available_pokemon = {
    "1": pikachu,
    "2": charmander,
    "3": charizard,
    "4": bulbasaur,
    "5": squirtle  
}

def choose_pokemon(player):
    print(f"\n{player}, choose your Pokémon:")
    print("1. Pikachu (Electric)")
    print("2. Charmander (Fire)")
    print("3. Charizard (Fire)")
    print("4. Bulbasaur (Grass)")
    print("5. Squirtle (Water)")  
    
    while True:
        choice = input(f"{player}, enter the number of your chosen Pokémon: ")
        if choice in available_pokemon:
            return available_pokemon[choice]
        else:
            print("Invalid choice. Please choose again.")

# Main function to run the battle
def main():
    # User chooses Pokémon
    player1_pokemon = choose_pokemon("User 1")
    player2_pokemon = choose_pokemon("User 2")
    
    # Start battle
    player1_pokemon.fight(player2_pokemon)

# Run the main battle simulation
if __name__ == "__main__":
    main()
